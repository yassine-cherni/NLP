{
  "nbformat": 4,
  "nbformat_minor": 0,
  "metadata": {
    "colab": {
      "provenance": [],
      "gpuType": "V28",
      "mount_file_id": "1dhJprR9PPvy5hGUuozc54VjaKZOKr2HP",
      "authorship_tag": "ABX9TyOR1IRe5WoS/ppUjRoTJFcJ",
      "include_colab_link": true
    },
    "kernelspec": {
      "name": "python3",
      "display_name": "Python 3"
    },
    "language_info": {
      "name": "python"
    },
    "accelerator": "TPU"
  },
  "cells": [
    {
      "cell_type": "markdown",
      "metadata": {
        "id": "view-in-github",
        "colab_type": "text"
      },
      "source": [
        "<a href=\"https://colab.research.google.com/github/yassine-cherni/NLP/blob/main/YC.ipynb\" target=\"_parent\"><img src=\"https://colab.research.google.com/assets/colab-badge.svg\" alt=\"Open In Colab\"/></a>"
      ]
    },
    {
      "cell_type": "code",
      "source": [
        "!pip install librosa\n",
        "!pip install librosa resampy"
      ],
      "metadata": {
        "colab": {
          "base_uri": "https://localhost:8080/"
        },
        "id": "7rDqHfNl_z3l",
        "outputId": "89679e54-a8f3-4780-f60b-ad3e981c3090"
      },
      "execution_count": 8,
      "outputs": [
        {
          "output_type": "stream",
          "name": "stdout",
          "text": [
            "Requirement already satisfied: librosa in /usr/local/lib/python3.10/dist-packages (0.10.1)\n",
            "Requirement already satisfied: audioread>=2.1.9 in /usr/local/lib/python3.10/dist-packages (from librosa) (3.0.1)\n",
            "Requirement already satisfied: numpy!=1.22.0,!=1.22.1,!=1.22.2,>=1.20.3 in /usr/local/lib/python3.10/dist-packages (from librosa) (1.25.2)\n",
            "Requirement already satisfied: scipy>=1.2.0 in /usr/local/lib/python3.10/dist-packages (from librosa) (1.11.4)\n",
            "Requirement already satisfied: scikit-learn>=0.20.0 in /usr/local/lib/python3.10/dist-packages (from librosa) (1.2.2)\n",
            "Requirement already satisfied: joblib>=0.14 in /usr/local/lib/python3.10/dist-packages (from librosa) (1.3.2)\n",
            "Requirement already satisfied: decorator>=4.3.0 in /usr/local/lib/python3.10/dist-packages (from librosa) (4.4.2)\n",
            "Requirement already satisfied: numba>=0.51.0 in /usr/local/lib/python3.10/dist-packages (from librosa) (0.58.1)\n",
            "Requirement already satisfied: soundfile>=0.12.1 in /usr/local/lib/python3.10/dist-packages (from librosa) (0.12.1)\n",
            "Requirement already satisfied: pooch>=1.0 in /usr/local/lib/python3.10/dist-packages (from librosa) (1.8.1)\n",
            "Requirement already satisfied: soxr>=0.3.2 in /usr/local/lib/python3.10/dist-packages (from librosa) (0.3.7)\n",
            "Requirement already satisfied: typing-extensions>=4.1.1 in /usr/local/lib/python3.10/dist-packages (from librosa) (4.10.0)\n",
            "Requirement already satisfied: lazy-loader>=0.1 in /usr/local/lib/python3.10/dist-packages (from librosa) (0.3)\n",
            "Requirement already satisfied: msgpack>=1.0 in /usr/local/lib/python3.10/dist-packages (from librosa) (1.0.8)\n",
            "Requirement already satisfied: llvmlite<0.42,>=0.41.0dev0 in /usr/local/lib/python3.10/dist-packages (from numba>=0.51.0->librosa) (0.41.1)\n",
            "Requirement already satisfied: platformdirs>=2.5.0 in /usr/local/lib/python3.10/dist-packages (from pooch>=1.0->librosa) (4.2.0)\n",
            "Requirement already satisfied: packaging>=20.0 in /usr/local/lib/python3.10/dist-packages (from pooch>=1.0->librosa) (24.0)\n",
            "Requirement already satisfied: requests>=2.19.0 in /usr/local/lib/python3.10/dist-packages (from pooch>=1.0->librosa) (2.31.0)\n",
            "Requirement already satisfied: threadpoolctl>=2.0.0 in /usr/local/lib/python3.10/dist-packages (from scikit-learn>=0.20.0->librosa) (3.4.0)\n",
            "Requirement already satisfied: cffi>=1.0 in /usr/local/lib/python3.10/dist-packages (from soundfile>=0.12.1->librosa) (1.16.0)\n",
            "Requirement already satisfied: pycparser in /usr/local/lib/python3.10/dist-packages (from cffi>=1.0->soundfile>=0.12.1->librosa) (2.22)\n",
            "Requirement already satisfied: charset-normalizer<4,>=2 in /usr/local/lib/python3.10/dist-packages (from requests>=2.19.0->pooch>=1.0->librosa) (3.3.2)\n",
            "Requirement already satisfied: idna<4,>=2.5 in /usr/local/lib/python3.10/dist-packages (from requests>=2.19.0->pooch>=1.0->librosa) (3.6)\n",
            "Requirement already satisfied: urllib3<3,>=1.21.1 in /usr/local/lib/python3.10/dist-packages (from requests>=2.19.0->pooch>=1.0->librosa) (2.0.7)\n",
            "Requirement already satisfied: certifi>=2017.4.17 in /usr/local/lib/python3.10/dist-packages (from requests>=2.19.0->pooch>=1.0->librosa) (2024.2.2)\n",
            "Requirement already satisfied: librosa in /usr/local/lib/python3.10/dist-packages (0.10.1)\n",
            "Collecting resampy\n",
            "  Downloading resampy-0.4.3-py3-none-any.whl (3.1 MB)\n",
            "\u001b[2K     \u001b[90m━━━━━━━━━━━━━━━━━━━━━━━━━━━━━━━━━━━━━━━━\u001b[0m \u001b[32m3.1/3.1 MB\u001b[0m \u001b[31m11.0 MB/s\u001b[0m eta \u001b[36m0:00:00\u001b[0m\n",
            "\u001b[?25hRequirement already satisfied: audioread>=2.1.9 in /usr/local/lib/python3.10/dist-packages (from librosa) (3.0.1)\n",
            "Requirement already satisfied: numpy!=1.22.0,!=1.22.1,!=1.22.2,>=1.20.3 in /usr/local/lib/python3.10/dist-packages (from librosa) (1.25.2)\n",
            "Requirement already satisfied: scipy>=1.2.0 in /usr/local/lib/python3.10/dist-packages (from librosa) (1.11.4)\n",
            "Requirement already satisfied: scikit-learn>=0.20.0 in /usr/local/lib/python3.10/dist-packages (from librosa) (1.2.2)\n",
            "Requirement already satisfied: joblib>=0.14 in /usr/local/lib/python3.10/dist-packages (from librosa) (1.3.2)\n",
            "Requirement already satisfied: decorator>=4.3.0 in /usr/local/lib/python3.10/dist-packages (from librosa) (4.4.2)\n",
            "Requirement already satisfied: numba>=0.51.0 in /usr/local/lib/python3.10/dist-packages (from librosa) (0.58.1)\n",
            "Requirement already satisfied: soundfile>=0.12.1 in /usr/local/lib/python3.10/dist-packages (from librosa) (0.12.1)\n",
            "Requirement already satisfied: pooch>=1.0 in /usr/local/lib/python3.10/dist-packages (from librosa) (1.8.1)\n",
            "Requirement already satisfied: soxr>=0.3.2 in /usr/local/lib/python3.10/dist-packages (from librosa) (0.3.7)\n",
            "Requirement already satisfied: typing-extensions>=4.1.1 in /usr/local/lib/python3.10/dist-packages (from librosa) (4.10.0)\n",
            "Requirement already satisfied: lazy-loader>=0.1 in /usr/local/lib/python3.10/dist-packages (from librosa) (0.3)\n",
            "Requirement already satisfied: msgpack>=1.0 in /usr/local/lib/python3.10/dist-packages (from librosa) (1.0.8)\n",
            "Requirement already satisfied: llvmlite<0.42,>=0.41.0dev0 in /usr/local/lib/python3.10/dist-packages (from numba>=0.51.0->librosa) (0.41.1)\n",
            "Requirement already satisfied: platformdirs>=2.5.0 in /usr/local/lib/python3.10/dist-packages (from pooch>=1.0->librosa) (4.2.0)\n",
            "Requirement already satisfied: packaging>=20.0 in /usr/local/lib/python3.10/dist-packages (from pooch>=1.0->librosa) (24.0)\n",
            "Requirement already satisfied: requests>=2.19.0 in /usr/local/lib/python3.10/dist-packages (from pooch>=1.0->librosa) (2.31.0)\n",
            "Requirement already satisfied: threadpoolctl>=2.0.0 in /usr/local/lib/python3.10/dist-packages (from scikit-learn>=0.20.0->librosa) (3.4.0)\n",
            "Requirement already satisfied: cffi>=1.0 in /usr/local/lib/python3.10/dist-packages (from soundfile>=0.12.1->librosa) (1.16.0)\n",
            "Requirement already satisfied: pycparser in /usr/local/lib/python3.10/dist-packages (from cffi>=1.0->soundfile>=0.12.1->librosa) (2.22)\n",
            "Requirement already satisfied: charset-normalizer<4,>=2 in /usr/local/lib/python3.10/dist-packages (from requests>=2.19.0->pooch>=1.0->librosa) (3.3.2)\n",
            "Requirement already satisfied: idna<4,>=2.5 in /usr/local/lib/python3.10/dist-packages (from requests>=2.19.0->pooch>=1.0->librosa) (3.6)\n",
            "Requirement already satisfied: urllib3<3,>=1.21.1 in /usr/local/lib/python3.10/dist-packages (from requests>=2.19.0->pooch>=1.0->librosa) (2.0.7)\n",
            "Requirement already satisfied: certifi>=2017.4.17 in /usr/local/lib/python3.10/dist-packages (from requests>=2.19.0->pooch>=1.0->librosa) (2024.2.2)\n",
            "Installing collected packages: resampy\n",
            "Successfully installed resampy-0.4.3\n"
          ]
        }
      ]
    },
    {
      "cell_type": "code",
      "source": [
        "import os\n",
        "import numpy as np\n",
        "import pandas as pd\n",
        "import librosa\n",
        "from sklearn.model_selection import train_test_split\n",
        "from sklearn.preprocessing import LabelEncoder\n",
        "import tensorflow as tf\n",
        "from tensorflow.keras import layers, models, callbacks\n",
        "\n",
        "# Function to extract MFCC features from audio file\n",
        "def extract_features(file_path, mfcc=True, chroma=True, mel=True):\n",
        "    audio, sample_rate = librosa.load(file_path, sr=None)\n",
        "    features = []\n",
        "    if mfcc:\n",
        "        mfccs = np.mean(librosa.feature.mfcc(y=audio, sr=sample_rate, n_mfcc=40).T, axis=0)\n",
        "        features.append(mfccs)\n",
        "    if chroma:\n",
        "        chroma = np.mean(librosa.feature.chroma_stft(y=audio, sr=sample_rate).T, axis=0)\n",
        "        features.append(chroma)\n",
        "    if mel:\n",
        "        mel = np.mean(librosa.feature.melspectrogram(y=audio, sr=sample_rate).T, axis=0)\n",
        "        features.append(mel)\n",
        "    return np.concatenate(features)\n",
        "\n",
        "# Load data and extract features\n",
        "def load_data(data_dir):\n",
        "    features = []\n",
        "    labels = []\n",
        "    for folder in os.listdir(data_dir):\n",
        "        folder_path = os.path.join(data_dir, folder)\n",
        "        for file in os.listdir(folder_path):\n",
        "            file_path = os.path.join(folder_path, file)\n",
        "            feature = extract_features(file_path)\n",
        "            features.append(feature)\n",
        "            labels.append(folder)\n",
        "    return np.array(features), np.array(labels)"
      ],
      "metadata": {
        "id": "FINjZQzM_zqS"
      },
      "execution_count": 13,
      "outputs": []
    },
    {
      "cell_type": "code",
      "source": [
        "# Load data and labels\n",
        "data_dir = \"/content/drive/MyDrive/DATA/AUDIO\"  # Update with your data directory path\n",
        "features, labels = load_data(data_dir)"
      ],
      "metadata": {
        "id": "bCG4PujZ_zns"
      },
      "execution_count": 14,
      "outputs": []
    },
    {
      "cell_type": "code",
      "source": [
        "# Encode labels\n",
        "label_encoder = LabelEncoder()\n",
        "labels_encoded = label_encoder.fit_transform(labels)"
      ],
      "metadata": {
        "id": "mDMeUgJW_zlS"
      },
      "execution_count": 18,
      "outputs": []
    },
    {
      "cell_type": "code",
      "source": [
        "# Train-validation-test split\n",
        "X_train, X_test, y_train, y_test = train_test_split(features, labels_encoded, test_size=0.1, random_state=42)\n",
        "X_train, X_val, y_train, y_val = train_test_split(X_train, y_train, test_size=0.1, random_state=42)"
      ],
      "metadata": {
        "id": "hDPmo708_zik"
      },
      "execution_count": 19,
      "outputs": []
    },
    {
      "cell_type": "code",
      "source": [
        "# Build the RNN-LSTM model\n",
        "model = models.Sequential([\n",
        "    layers.Input(shape=(X_train.shape[1],)),\n",
        "    layers.Reshape((1, -1)),\n",
        "    layers.LSTM(128, return_sequences=True),\n",
        "    layers.LSTM(64),\n",
        "    layers.Dense(64, activation='relu'),\n",
        "    layers.Dense(len(np.unique(labels_encoded)), activation='softmax')\n",
        "])\n",
        "# Compile the model\n",
        "model.compile(optimizer='adam',\n",
        "              loss='sparse_categorical_crossentropy',\n",
        "              metrics=['accuracy'])"
      ],
      "metadata": {
        "id": "nzwioMBjF9O-"
      },
      "execution_count": 21,
      "outputs": []
    },
    {
      "cell_type": "code",
      "source": [
        "# Train the model\n",
        "history = model.fit(X_train, y_train, validation_data=(X_val, y_val), epochs=20, batch_size=32, verbose=2)"
      ],
      "metadata": {
        "colab": {
          "base_uri": "https://localhost:8080/"
        },
        "id": "gqR9ccgVGsXa",
        "outputId": "66e16356-1e77-4b8f-8dc3-553a775fef9a"
      },
      "execution_count": 22,
      "outputs": [
        {
          "output_type": "stream",
          "name": "stdout",
          "text": [
            "Epoch 1/20\n",
            "203/203 - 7s - loss: 1.1073 - accuracy: 0.5470 - val_loss: 0.5323 - val_accuracy: 0.8006 - 7s/epoch - 37ms/step\n",
            "Epoch 2/20\n",
            "203/203 - 2s - loss: 0.3416 - accuracy: 0.8784 - val_loss: 0.2399 - val_accuracy: 0.9183 - 2s/epoch - 8ms/step\n",
            "Epoch 3/20\n",
            "203/203 - 2s - loss: 0.1969 - accuracy: 0.9330 - val_loss: 0.2302 - val_accuracy: 0.9224 - 2s/epoch - 11ms/step\n",
            "Epoch 4/20\n",
            "203/203 - 2s - loss: 0.1580 - accuracy: 0.9461 - val_loss: 0.1771 - val_accuracy: 0.9321 - 2s/epoch - 12ms/step\n",
            "Epoch 5/20\n",
            "203/203 - 2s - loss: 0.1339 - accuracy: 0.9529 - val_loss: 0.1455 - val_accuracy: 0.9460 - 2s/epoch - 8ms/step\n",
            "Epoch 6/20\n",
            "203/203 - 2s - loss: 0.1323 - accuracy: 0.9547 - val_loss: 0.1542 - val_accuracy: 0.9501 - 2s/epoch - 8ms/step\n",
            "Epoch 7/20\n",
            "203/203 - 2s - loss: 0.1161 - accuracy: 0.9567 - val_loss: 0.2211 - val_accuracy: 0.9238 - 2s/epoch - 8ms/step\n",
            "Epoch 8/20\n",
            "203/203 - 2s - loss: 0.0932 - accuracy: 0.9661 - val_loss: 0.1269 - val_accuracy: 0.9557 - 2s/epoch - 8ms/step\n",
            "Epoch 9/20\n",
            "203/203 - 2s - loss: 0.0850 - accuracy: 0.9693 - val_loss: 0.1254 - val_accuracy: 0.9529 - 2s/epoch - 8ms/step\n",
            "Epoch 10/20\n",
            "203/203 - 2s - loss: 0.0873 - accuracy: 0.9689 - val_loss: 0.1229 - val_accuracy: 0.9571 - 2s/epoch - 8ms/step\n",
            "Epoch 11/20\n",
            "203/203 - 3s - loss: 0.0756 - accuracy: 0.9740 - val_loss: 0.1149 - val_accuracy: 0.9598 - 3s/epoch - 13ms/step\n",
            "Epoch 12/20\n",
            "203/203 - 2s - loss: 0.0637 - accuracy: 0.9778 - val_loss: 0.1074 - val_accuracy: 0.9695 - 2s/epoch - 10ms/step\n",
            "Epoch 13/20\n",
            "203/203 - 2s - loss: 0.0615 - accuracy: 0.9780 - val_loss: 0.1477 - val_accuracy: 0.9571 - 2s/epoch - 8ms/step\n",
            "Epoch 14/20\n",
            "203/203 - 2s - loss: 0.0950 - accuracy: 0.9646 - val_loss: 0.1261 - val_accuracy: 0.9584 - 2s/epoch - 8ms/step\n",
            "Epoch 15/20\n",
            "203/203 - 2s - loss: 0.0581 - accuracy: 0.9787 - val_loss: 0.1157 - val_accuracy: 0.9654 - 2s/epoch - 8ms/step\n",
            "Epoch 16/20\n",
            "203/203 - 2s - loss: 0.0551 - accuracy: 0.9800 - val_loss: 0.1007 - val_accuracy: 0.9681 - 2s/epoch - 8ms/step\n",
            "Epoch 17/20\n",
            "203/203 - 2s - loss: 0.0446 - accuracy: 0.9835 - val_loss: 0.0918 - val_accuracy: 0.9695 - 2s/epoch - 8ms/step\n",
            "Epoch 18/20\n",
            "203/203 - 2s - loss: 0.0558 - accuracy: 0.9794 - val_loss: 0.1099 - val_accuracy: 0.9654 - 2s/epoch - 9ms/step\n",
            "Epoch 19/20\n",
            "203/203 - 3s - loss: 0.0529 - accuracy: 0.9794 - val_loss: 0.1256 - val_accuracy: 0.9654 - 3s/epoch - 13ms/step\n",
            "Epoch 20/20\n",
            "203/203 - 2s - loss: 0.0361 - accuracy: 0.9871 - val_loss: 0.1187 - val_accuracy: 0.9598 - 2s/epoch - 9ms/step\n"
          ]
        }
      ]
    },
    {
      "cell_type": "code",
      "source": [
        "# Evaluate the model\n",
        "loss, accuracy = model.evaluate(X_test, y_test)\n",
        "print(f\"Test Loss: {loss}, Test Accuracy: {accuracy}\")\n",
        "\n",
        "# Optional: Save the model\n",
        "model.save(\"speech_recognition_model.keras\")"
      ],
      "metadata": {
        "colab": {
          "base_uri": "https://localhost:8080/"
        },
        "id": "Id-75nIiG6W5",
        "outputId": "155df740-e121-4219-b57b-37ec20280ec7"
      },
      "execution_count": 27,
      "outputs": [
        {
          "output_type": "stream",
          "name": "stdout",
          "text": [
            "26/26 [==============================] - 0s 3ms/step - loss: 0.1178 - accuracy: 0.9663\n",
            "Test Loss: 0.11777452379465103, Test Accuracy: 0.9663341641426086\n"
          ]
        }
      ]
    },
    {
      "cell_type": "code",
      "source": [
        "import librosa\n",
        "import numpy as np\n",
        "from tensorflow.keras.models import load_model\n",
        "\n",
        "# Load the trained model\n",
        "model = load_model(\"speech_recognition_model.keras\")  # Load your saved model here\n",
        "\n",
        "# Function to extract MFCC features from audio file\n",
        "def extract_features(file_path, mfcc=True, chroma=True, mel=True):\n",
        "    audio, sample_rate = librosa.load(file_path, sr=None)\n",
        "    features = []\n",
        "    if mfcc:\n",
        "        mfccs = np.mean(librosa.feature.mfcc(y=audio, sr=sample_rate, n_mfcc=40).T, axis=0)\n",
        "        features.append(mfccs)\n",
        "    if chroma:\n",
        "        chroma = np.mean(librosa.feature.chroma_stft(y=audio, sr=sample_rate).T, axis=0)\n",
        "        features.append(chroma)\n",
        "    if mel:\n",
        "        mel = np.mean(librosa.feature.melspectrogram(y=audio, sr=sample_rate).T, axis=0)\n",
        "        features.append(mel)\n",
        "    return np.concatenate(features)\n",
        "\n",
        "# Function to predict command from audio file\n",
        "def predict_command(file_path):\n",
        "    features = extract_features(file_path)\n",
        "    features = np.expand_dims(features, axis=0)\n",
        "    prediction = model.predict(features)\n",
        "    predicted_label = np.argmax(prediction)\n",
        "    return predicted_label\n",
        "\n",
        "# Example usage\n",
        "audio_file_path = \"/content/drive/MyDrive/DATA/AUDIO/ACTIVATE_LANE_ASSIST/ACTIVATE LANE ASSIST 1.wav\"  # Update with path to your audio file\n",
        "predicted_label = predict_command(audio_file_path)\n",
        "print(\"Predicted Command:\", label_encoder.inverse_transform([predicted_label])[0])\n"
      ],
      "metadata": {
        "colab": {
          "base_uri": "https://localhost:8080/"
        },
        "id": "sdRPhY4HHM_i",
        "outputId": "296396e7-7566-4f94-de2f-6f19891c5bbf"
      },
      "execution_count": 28,
      "outputs": [
        {
          "output_type": "stream",
          "name": "stdout",
          "text": [
            "1/1 [==============================] - 1s 1s/step\n",
            "Predicted Command: ACTIVATE_LANE_ASSIST\n"
          ]
        }
      ]
    }
  ]
}