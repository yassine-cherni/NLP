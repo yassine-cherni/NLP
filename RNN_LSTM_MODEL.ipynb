{
  "nbformat": 4,
  "nbformat_minor": 0,
  "metadata": {
    "colab": {
      "provenance": [],
      "gpuType": "V28",
      "mount_file_id": "1uj9Lk3ZCLfjhovonaJKh-ZrdTNJTJFSR",
      "authorship_tag": "ABX9TyPUx8Gze8PKmj455PXrk/xF",
      "include_colab_link": true
    },
    "kernelspec": {
      "name": "python3",
      "display_name": "Python 3"
    },
    "language_info": {
      "name": "python"
    },
    "accelerator": "TPU"
  },
  "cells": [
    {
      "cell_type": "markdown",
      "metadata": {
        "id": "view-in-github",
        "colab_type": "text"
      },
      "source": [
        "<a href=\"https://colab.research.google.com/github/yassine-cherni/NLP/blob/main/RNN_LSTM_MODEL.ipynb\" target=\"_parent\"><img src=\"https://colab.research.google.com/assets/colab-badge.svg\" alt=\"Open In Colab\"/></a>"
      ]
    },
    {
      "cell_type": "code",
      "source": [
        "!pip install librosa\n",
        "!pip install librosa resampy"
      ],
      "metadata": {
        "colab": {
          "base_uri": "https://localhost:8080/"
        },
        "id": "8HDb2jSovEeF",
        "outputId": "4925208c-35c2-49a9-97e0-647aba28ae17"
      },
      "execution_count": 2,
      "outputs": [
        {
          "output_type": "stream",
          "name": "stdout",
          "text": [
            "Requirement already satisfied: librosa in /usr/local/lib/python3.10/dist-packages (0.10.1)\n",
            "Requirement already satisfied: audioread>=2.1.9 in /usr/local/lib/python3.10/dist-packages (from librosa) (3.0.1)\n",
            "Requirement already satisfied: numpy!=1.22.0,!=1.22.1,!=1.22.2,>=1.20.3 in /usr/local/lib/python3.10/dist-packages (from librosa) (1.25.2)\n",
            "Requirement already satisfied: scipy>=1.2.0 in /usr/local/lib/python3.10/dist-packages (from librosa) (1.11.4)\n",
            "Requirement already satisfied: scikit-learn>=0.20.0 in /usr/local/lib/python3.10/dist-packages (from librosa) (1.2.2)\n",
            "Requirement already satisfied: joblib>=0.14 in /usr/local/lib/python3.10/dist-packages (from librosa) (1.3.2)\n",
            "Requirement already satisfied: decorator>=4.3.0 in /usr/local/lib/python3.10/dist-packages (from librosa) (4.4.2)\n",
            "Requirement already satisfied: numba>=0.51.0 in /usr/local/lib/python3.10/dist-packages (from librosa) (0.58.1)\n",
            "Requirement already satisfied: soundfile>=0.12.1 in /usr/local/lib/python3.10/dist-packages (from librosa) (0.12.1)\n",
            "Requirement already satisfied: pooch>=1.0 in /usr/local/lib/python3.10/dist-packages (from librosa) (1.8.1)\n",
            "Requirement already satisfied: soxr>=0.3.2 in /usr/local/lib/python3.10/dist-packages (from librosa) (0.3.7)\n",
            "Requirement already satisfied: typing-extensions>=4.1.1 in /usr/local/lib/python3.10/dist-packages (from librosa) (4.10.0)\n",
            "Requirement already satisfied: lazy-loader>=0.1 in /usr/local/lib/python3.10/dist-packages (from librosa) (0.3)\n",
            "Requirement already satisfied: msgpack>=1.0 in /usr/local/lib/python3.10/dist-packages (from librosa) (1.0.8)\n",
            "Requirement already satisfied: llvmlite<0.42,>=0.41.0dev0 in /usr/local/lib/python3.10/dist-packages (from numba>=0.51.0->librosa) (0.41.1)\n",
            "Requirement already satisfied: platformdirs>=2.5.0 in /usr/local/lib/python3.10/dist-packages (from pooch>=1.0->librosa) (4.2.0)\n",
            "Requirement already satisfied: packaging>=20.0 in /usr/local/lib/python3.10/dist-packages (from pooch>=1.0->librosa) (24.0)\n",
            "Requirement already satisfied: requests>=2.19.0 in /usr/local/lib/python3.10/dist-packages (from pooch>=1.0->librosa) (2.31.0)\n",
            "Requirement already satisfied: threadpoolctl>=2.0.0 in /usr/local/lib/python3.10/dist-packages (from scikit-learn>=0.20.0->librosa) (3.4.0)\n",
            "Requirement already satisfied: cffi>=1.0 in /usr/local/lib/python3.10/dist-packages (from soundfile>=0.12.1->librosa) (1.16.0)\n",
            "Requirement already satisfied: pycparser in /usr/local/lib/python3.10/dist-packages (from cffi>=1.0->soundfile>=0.12.1->librosa) (2.22)\n",
            "Requirement already satisfied: charset-normalizer<4,>=2 in /usr/local/lib/python3.10/dist-packages (from requests>=2.19.0->pooch>=1.0->librosa) (3.3.2)\n",
            "Requirement already satisfied: idna<4,>=2.5 in /usr/local/lib/python3.10/dist-packages (from requests>=2.19.0->pooch>=1.0->librosa) (3.6)\n",
            "Requirement already satisfied: urllib3<3,>=1.21.1 in /usr/local/lib/python3.10/dist-packages (from requests>=2.19.0->pooch>=1.0->librosa) (2.0.7)\n",
            "Requirement already satisfied: certifi>=2017.4.17 in /usr/local/lib/python3.10/dist-packages (from requests>=2.19.0->pooch>=1.0->librosa) (2024.2.2)\n",
            "Requirement already satisfied: librosa in /usr/local/lib/python3.10/dist-packages (0.10.1)\n",
            "Requirement already satisfied: resampy in /usr/local/lib/python3.10/dist-packages (0.4.3)\n",
            "Requirement already satisfied: audioread>=2.1.9 in /usr/local/lib/python3.10/dist-packages (from librosa) (3.0.1)\n",
            "Requirement already satisfied: numpy!=1.22.0,!=1.22.1,!=1.22.2,>=1.20.3 in /usr/local/lib/python3.10/dist-packages (from librosa) (1.25.2)\n",
            "Requirement already satisfied: scipy>=1.2.0 in /usr/local/lib/python3.10/dist-packages (from librosa) (1.11.4)\n",
            "Requirement already satisfied: scikit-learn>=0.20.0 in /usr/local/lib/python3.10/dist-packages (from librosa) (1.2.2)\n",
            "Requirement already satisfied: joblib>=0.14 in /usr/local/lib/python3.10/dist-packages (from librosa) (1.3.2)\n",
            "Requirement already satisfied: decorator>=4.3.0 in /usr/local/lib/python3.10/dist-packages (from librosa) (4.4.2)\n",
            "Requirement already satisfied: numba>=0.51.0 in /usr/local/lib/python3.10/dist-packages (from librosa) (0.58.1)\n",
            "Requirement already satisfied: soundfile>=0.12.1 in /usr/local/lib/python3.10/dist-packages (from librosa) (0.12.1)\n",
            "Requirement already satisfied: pooch>=1.0 in /usr/local/lib/python3.10/dist-packages (from librosa) (1.8.1)\n",
            "Requirement already satisfied: soxr>=0.3.2 in /usr/local/lib/python3.10/dist-packages (from librosa) (0.3.7)\n",
            "Requirement already satisfied: typing-extensions>=4.1.1 in /usr/local/lib/python3.10/dist-packages (from librosa) (4.10.0)\n",
            "Requirement already satisfied: lazy-loader>=0.1 in /usr/local/lib/python3.10/dist-packages (from librosa) (0.3)\n",
            "Requirement already satisfied: msgpack>=1.0 in /usr/local/lib/python3.10/dist-packages (from librosa) (1.0.8)\n",
            "Requirement already satisfied: llvmlite<0.42,>=0.41.0dev0 in /usr/local/lib/python3.10/dist-packages (from numba>=0.51.0->librosa) (0.41.1)\n",
            "Requirement already satisfied: platformdirs>=2.5.0 in /usr/local/lib/python3.10/dist-packages (from pooch>=1.0->librosa) (4.2.0)\n",
            "Requirement already satisfied: packaging>=20.0 in /usr/local/lib/python3.10/dist-packages (from pooch>=1.0->librosa) (24.0)\n",
            "Requirement already satisfied: requests>=2.19.0 in /usr/local/lib/python3.10/dist-packages (from pooch>=1.0->librosa) (2.31.0)\n",
            "Requirement already satisfied: threadpoolctl>=2.0.0 in /usr/local/lib/python3.10/dist-packages (from scikit-learn>=0.20.0->librosa) (3.4.0)\n",
            "Requirement already satisfied: cffi>=1.0 in /usr/local/lib/python3.10/dist-packages (from soundfile>=0.12.1->librosa) (1.16.0)\n",
            "Requirement already satisfied: pycparser in /usr/local/lib/python3.10/dist-packages (from cffi>=1.0->soundfile>=0.12.1->librosa) (2.22)\n",
            "Requirement already satisfied: charset-normalizer<4,>=2 in /usr/local/lib/python3.10/dist-packages (from requests>=2.19.0->pooch>=1.0->librosa) (3.3.2)\n",
            "Requirement already satisfied: idna<4,>=2.5 in /usr/local/lib/python3.10/dist-packages (from requests>=2.19.0->pooch>=1.0->librosa) (3.6)\n",
            "Requirement already satisfied: urllib3<3,>=1.21.1 in /usr/local/lib/python3.10/dist-packages (from requests>=2.19.0->pooch>=1.0->librosa) (2.0.7)\n",
            "Requirement already satisfied: certifi>=2017.4.17 in /usr/local/lib/python3.10/dist-packages (from requests>=2.19.0->pooch>=1.0->librosa) (2024.2.2)\n"
          ]
        }
      ]
    },
    {
      "cell_type": "code",
      "source": [
        "import os\n",
        "import numpy as np\n",
        "import pandas as pd\n",
        "import librosa\n",
        "from sklearn.model_selection import train_test_split\n",
        "from tensorflow.keras.models import Sequential\n",
        "from tensorflow.keras.layers import LSTM, Dense, Dropout, Activation\n",
        "from tensorflow.keras.optimizers import Adam\n",
        "from sklearn.preprocessing import LabelEncoder\n",
        "from tensorflow.keras.utils import to_categorical\n"
      ],
      "metadata": {
        "id": "2nudRoeQ2IDB"
      },
      "execution_count": 3,
      "outputs": []
    },
    {
      "cell_type": "code",
      "source": [
        "# Define a fixed length for MFCCs\n",
        "max_length = 100  # Adjust this value as needed\n",
        "\n",
        "# Function to extract MFCC features from audio files and pad or truncate them to a fixed length\n",
        "def extract_features(file_name, max_length=max_length):\n",
        "    audio, sample_rate = librosa.load(file_name, res_type='kaiser_fast')\n",
        "    mfccs = librosa.feature.mfcc(y=audio, sr=sample_rate, n_mfcc=40)\n",
        "\n",
        "    # Pad or truncate the features to the fixed length\n",
        "    if mfccs.shape[1] < max_length:\n",
        "        # Pad the features with zeros\n",
        "        mfccs_padded = np.pad(mfccs, ((0, 0), (0, max_length - mfccs.shape[1])), mode='constant')\n",
        "        return mfccs_padded\n",
        "    else:\n",
        "        # Truncate the features\n",
        "        return mfccs[:, :max_length]\n",
        "\n",
        "# Initialize lists to store extracted features and labels\n",
        "features_list = []\n",
        "labels_list = []\n",
        "\n",
        "# Iterate through each directory (class label)\n",
        "for class_label in os.listdir(audio_dataset_path):\n",
        "    # Construct the path to the current class label directory\n",
        "    class_dir_path = os.path.join(audio_dataset_path, class_label)\n",
        "\n",
        "    # Check if the current item in the directory is a directory itself\n",
        "    if os.path.isdir(class_dir_path):\n",
        "        # Iterate through each audio file in the class label directory\n",
        "        for audio_file in os.listdir(class_dir_path):\n",
        "            # Construct the file path\n",
        "            file_name = os.path.join(class_dir_path, audio_file)\n",
        "            # Extract features from the audio file and pad or truncate them\n",
        "            features = extract_features(file_name)\n",
        "\n",
        "            # Append the extracted features and label to the lists\n",
        "            features_list.append(features)\n",
        "            labels_list.append(class_label)\n",
        "\n",
        "# Convert lists to NumPy arrays\n",
        "X = np.array(features_list)\n",
        "y = np.array(labels_list)\n"
      ],
      "metadata": {
        "id": "0ofRsC-82H3q"
      },
      "execution_count": 5,
      "outputs": []
    },
    {
      "cell_type": "code",
      "source": [
        "# Reshape features for LSTM input (add time dimension)\n",
        "X = np.expand_dims(X, axis=3)\n",
        "\n",
        "# Convert class labels to one-hot encoded format\n",
        "label_encoder = LabelEncoder()\n",
        "y = to_categorical(label_encoder.fit_transform(y))"
      ],
      "metadata": {
        "id": "fonh0vs63n0J"
      },
      "execution_count": 6,
      "outputs": []
    },
    {
      "cell_type": "code",
      "source": [
        "# Split the dataset into training and testing sets\n",
        "X_train, X_test, y_train, y_test = train_test_split(X, y, test_size=0.2, random_state=0)\n",
        "\n",
        "# Define the RNN-LSTM model\n",
        "model = Sequential([\n",
        "    LSTM(units=128, input_shape=(X_train.shape[1], X_train.shape[2])),\n",
        "    Dropout(0.5),\n",
        "    Dense(64, activation='relu'),\n",
        "    Dropout(0.5),\n",
        "    Dense(y.shape[1], activation='softmax')\n",
        "])\n",
        "\n",
        "# Compile the model\n",
        "model.compile(optimizer='adam', loss='categorical_crossentropy', metrics=['accuracy'])\n"
      ],
      "metadata": {
        "id": "P9HG3NgovEbk"
      },
      "execution_count": 7,
      "outputs": []
    },
    {
      "cell_type": "code",
      "source": [
        "# Train the model\n",
        "history = model.fit(X_train, y_train, validation_data=(X_test, y_test), epochs=20, batch_size=32)"
      ],
      "metadata": {
        "colab": {
          "base_uri": "https://localhost:8080/"
        },
        "id": "XqqnZaTsvEZC",
        "outputId": "d4efd921-b076-4d2c-f5c8-dacabcdd7419"
      },
      "execution_count": 8,
      "outputs": [
        {
          "output_type": "stream",
          "name": "stdout",
          "text": [
            "Epoch 1/20\n",
            "201/201 [==============================] - 17s 72ms/step - loss: 1.6680 - accuracy: 0.3480 - val_loss: 1.0312 - val_accuracy: 0.6201\n",
            "Epoch 2/20\n",
            "201/201 [==============================] - 14s 68ms/step - loss: 1.0353 - accuracy: 0.5693 - val_loss: 0.6876 - val_accuracy: 0.7405\n",
            "Epoch 3/20\n",
            "201/201 [==============================] - 13s 66ms/step - loss: 0.7708 - accuracy: 0.6729 - val_loss: 0.5351 - val_accuracy: 0.8029\n",
            "Epoch 4/20\n",
            "201/201 [==============================] - 13s 65ms/step - loss: 0.6340 - accuracy: 0.7358 - val_loss: 0.4646 - val_accuracy: 0.8153\n",
            "Epoch 5/20\n",
            "201/201 [==============================] - 13s 65ms/step - loss: 0.5437 - accuracy: 0.7794 - val_loss: 0.4051 - val_accuracy: 0.8478\n",
            "Epoch 6/20\n",
            "201/201 [==============================] - 13s 65ms/step - loss: 0.4599 - accuracy: 0.8195 - val_loss: 0.3743 - val_accuracy: 0.8634\n",
            "Epoch 7/20\n",
            "201/201 [==============================] - 13s 66ms/step - loss: 0.4330 - accuracy: 0.8323 - val_loss: 0.3624 - val_accuracy: 0.8634\n",
            "Epoch 8/20\n",
            "201/201 [==============================] - 14s 71ms/step - loss: 0.3841 - accuracy: 0.8549 - val_loss: 0.2651 - val_accuracy: 0.9002\n",
            "Epoch 9/20\n",
            "201/201 [==============================] - 13s 67ms/step - loss: 0.3418 - accuracy: 0.8735 - val_loss: 0.2715 - val_accuracy: 0.9077\n",
            "Epoch 10/20\n",
            "201/201 [==============================] - 14s 72ms/step - loss: 0.3169 - accuracy: 0.8811 - val_loss: 0.2968 - val_accuracy: 0.8921\n",
            "Epoch 11/20\n",
            "201/201 [==============================] - 13s 65ms/step - loss: 0.3160 - accuracy: 0.8875 - val_loss: 0.2514 - val_accuracy: 0.9083\n",
            "Epoch 12/20\n",
            "201/201 [==============================] - 14s 68ms/step - loss: 0.2594 - accuracy: 0.9027 - val_loss: 0.2440 - val_accuracy: 0.9170\n",
            "Epoch 13/20\n",
            "201/201 [==============================] - 14s 69ms/step - loss: 0.2529 - accuracy: 0.9063 - val_loss: 0.2230 - val_accuracy: 0.9170\n",
            "Epoch 14/20\n",
            "201/201 [==============================] - 13s 65ms/step - loss: 0.2354 - accuracy: 0.9134 - val_loss: 0.2030 - val_accuracy: 0.9245\n",
            "Epoch 15/20\n",
            "201/201 [==============================] - 14s 68ms/step - loss: 0.2048 - accuracy: 0.9286 - val_loss: 0.1965 - val_accuracy: 0.9370\n",
            "Epoch 16/20\n",
            "201/201 [==============================] - 13s 67ms/step - loss: 0.2134 - accuracy: 0.9223 - val_loss: 0.2316 - val_accuracy: 0.9145\n",
            "Epoch 17/20\n",
            "201/201 [==============================] - 13s 64ms/step - loss: 0.1930 - accuracy: 0.9332 - val_loss: 0.2159 - val_accuracy: 0.9220\n",
            "Epoch 18/20\n",
            "201/201 [==============================] - 13s 67ms/step - loss: 0.1728 - accuracy: 0.9381 - val_loss: 0.2154 - val_accuracy: 0.9283\n",
            "Epoch 19/20\n",
            "201/201 [==============================] - 14s 67ms/step - loss: 0.1883 - accuracy: 0.9356 - val_loss: 0.1952 - val_accuracy: 0.9339\n",
            "Epoch 20/20\n",
            "201/201 [==============================] - 14s 68ms/step - loss: 0.1632 - accuracy: 0.9438 - val_loss: 0.1910 - val_accuracy: 0.9314\n"
          ]
        }
      ]
    },
    {
      "cell_type": "code",
      "source": [
        "# Evaluate the model\n",
        "loss, accuracy = model.evaluate(X_test, y_test)\n",
        "print(\"Test Loss:\", loss)\n",
        "print(\"Test Accuracy:\", accuracy)"
      ],
      "metadata": {
        "colab": {
          "base_uri": "https://localhost:8080/"
        },
        "id": "P3leFojn9yjD",
        "outputId": "3ccb30cc-7295-46f5-cef0-b0d2be3cfd4c"
      },
      "execution_count": 9,
      "outputs": [
        {
          "output_type": "stream",
          "name": "stdout",
          "text": [
            "51/51 [==============================] - 1s 20ms/step - loss: 0.1910 - accuracy: 0.9314\n",
            "Test Loss: 0.19103913009166718\n",
            "Test Accuracy: 0.9313786625862122\n"
          ]
        }
      ]
    },
    {
      "cell_type": "code",
      "source": [
        "# Save the model\n",
        "model.save('/content/drive/MyDrive/DATA/RNN_LSTM_model.h5')"
      ],
      "metadata": {
        "id": "4qJXI4ar-2yR"
      },
      "execution_count": 11,
      "outputs": []
    },
    {
      "cell_type": "markdown",
      "source": [
        "**RNN-LSTM r THE BEST 🤖#GOKU #YC1![images (1).jfif](data:image/jpeg;base64,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)**"
      ],
      "metadata": {
        "id": "kulKbFtz99qH"
      }
    }
  ]
}